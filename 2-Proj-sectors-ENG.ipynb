{
    "metadata": {
        "kernelspec": {
            "name": "SQL",
            "display_name": "SQL",
            "language": "sql"
        },
        "language_info": {
            "name": "sql",
            "version": ""
        }
    },
    "nbformat_minor": 2,
    "nbformat": 4,
    "cells": [
        {
            "cell_type": "markdown",
            "source": [
                "# **Financial Performance in Lima Stock Exchange (2015-2020)**\n",
                "* * *\n",
                "[**View dashboard online HERE**]()\n",
                "---\n",
                "\n",
                "## _Table of contents_\n",
                "0. Problem\n",
                "\n",
                "---\n",
                "# 0\\. Problem\n",
                "The Peruvian stock market, better known as the Lima Stock Exchange (LSE), is considered one of the smallest stock markets in Latin America despite its favorable growth in the last five years, doubling its size of public debt from 8.1% in 2015 to 15.7% of GDP in 2019. This project **<u>goal</u>** is to offer a global vision of the historical financial status of the companies listed on the LSE to know the historical financial performance of each economic sector and each company, this will be your interest if you plan to invest in this market in the near future.\n",
                "\n",
                "| Problem | Type of analysis | Tools used |\n",
                "| --- | :-: | --: |\n",
                "| What is the financial performance of the companies listed on the LSE? | Descriptive | SQL-Python-Tableau-Markdown |\n",
                "\n",
                "# 1\\. Pre-processing\n",
                "## 1.1. Data source\n",
                "To carry out the analysis, the financial information of the companies from 2015 to 2020 is required, available on the [_Lima Stock Exchange website_](https://www.bvl.com.pe/emisores/listado-emisores), from which the financial statements of Balance Sheet and Income Statement were selected.To avoid problems with the calculation of indicators, companies that did not present information during this time interval were discarded so that they are homogeneous and comparable. The companies _Atria Energia, Medrock, Minera IRL Limited_ were ruled out.\n",
                "Specific financial ratios used were:\n",
                "1. **Current ratio(CR):** Indicates the capacity of companies to raise funds and cover their obligations (Current assets/Current liabilities)\n",
                "2. **Debt ratio (DR):** measures how well a company's cash flow can cover its long-term debt (Total liabilities/Total assets)\n",
                "3. **Return to Assets (ROA):** Measures how profitable a company is in relation to its total assets (Net income/Total assets)\n",
                "4. **Net margin(MN):** Measure how much net income or profit is generated with income from sales (Net income/Net sales)\n",
                "## 1.2. Data Extraction\n",
                "For the extraction, scraping was used in Python with the selenium environment and the pandas software library. The dataset contains the following records\n",
                "\n",
                "| Indicator | Description |\n",
                "| --- | :-: |\n",
                "| TASSET | Total assets |\n",
                "| TLIABILITY | Total liabilties |\n",
                "| CURR\\_ASS | Current assets |\n",
                "| CURR\\_LIAB | Current liabilities |\n",
                "| NET\\_SALES | Net sales is total revenue |\n",
                "| NET\\_PROF | Net profit or net income, after deducting all operating, interest, and taxes |\n",
                "\n",
                "[**Let’s see the code!**\\_](https://github.com/Lu-Emperatriz/Lima-Stock-Performance/blob/main/pythonScript.ipynb)\n",
                "# 2\\. Cleaning Data\n",
                "There are **six tables in total**: _SECTOR_ (with records of the sector to which each company belongs), _TAB15_ that contains the data of the year 2015, _TAB16_ with the data of the period 2016 and in the same way for the remaining tables. _TAB17, TAB18, TAB19_ and _TAB20._ Then an _ID_ identity was added for each table to identify the companies since their proper names are very long and the corresponding year since the columns have the same name in all the tables.\n",
                "Let's see the SQL script!"
            ],
            "metadata": {
                "azdata_cell_guid": "1ff2db04-e750-4f49-8a5c-278e5f990492"
            },
            "attachments": {}
        },
        {
            "cell_type": "code",
            "source": [
                "--1. Adding identify ID to each table (the same for the others)\r\n",
                "ALTER TABLE TAB15\r\n",
                "ADD ID int identity(1,1)\r\n",
                "GO\r\n",
                "--2. Adding year number to each table (the same for the others)\r\n",
                "ALTER TABLE TAB15 ADD year integer\r\n",
                "UPDATE TAB15 SET year = 2015"
            ],
            "metadata": {
                "azdata_cell_guid": "dae8f9c7-ed8c-41d7-9f93-0f0ea4fc415a"
            },
            "outputs": [],
            "execution_count": null
        },
        {
            "cell_type": "markdown",
            "source": [
                "Finally, the tables were joined in a new view, which includes the sector to which each company belongs and the calculation of the corresponding ratios.\r\n",
                "\r\n",
                "Let's see the SQL script!"
            ],
            "metadata": {
                "azdata_cell_guid": "97dcb227-a02b-42bc-985b-ebe0fe47ec82"
            },
            "attachments": {}
        },
        {
            "cell_type": "code",
            "source": [
                "--3. UNION all tables (alias 'a' for TAB15, 'b' for TAB16, ... and 'f' for TAB20)\n",
                "--4. CREATING RATIO FORMULAS ('CR' is current ratio, 'DB' is debt ratio and 'NM' is net margin)\n",
                "\n",
                "SELECT a.id, a.year, z.NAME, z.sec, a.TASSET, a.TLIABILITY, a.CURR_ASS, a.CURR_LIAB, a.NET_SALES, a.NET_PROF\n",
                "\t,a.CURR_ASS/a.CURR_LIAB AS CR, a.TLIABILITY/a.TASSET AS DR, a.NET_PROF/a.TASSET AS ROA,  a.NET_SALES/a.NET_PROF AS NM\n",
                "FROM TAB15 a, SECTOR z\tWHERE a.id = z.ID  \n",
                "UNION ALL \t(\n",
                "\n",
                "SELECT b.id , b.year, z.NAME, z.sec, b.TASSET, b.TLIABILITY , b.CURR_ASS, b.CURR_LIAB, b.NET_SALES, b.NET_PROF\n",
                "\t,b.CURR_ASS/b.CURR_LIAB AS CR, b.TLIABILITY/b.TASSET AS DR, b.NET_PROF/b.TASSET AS ROA,  b.NET_SALES/b.NET_PROF AS NM\n",
                "FROM TAB16 b, SECTOR z \tWHERE b.id = z.ID\n",
                "UNION ALL \t(\n",
                "\n",
                "SELECT d.id , d.year, z.NAME, z.sec, d.TASSET, d.TLIABILITY, d.CURR_ASS, d.CURR_LIAB, d.NET_SALES, d.NET_PROF\n",
                "\t,d.CURR_ASS/d.CURR_LIAB AS CR, d.TLIABILITY/d.TASSET AS DR, d.NET_PROF/d.TASSET AS ROA,  d.NET_SALES/d.NET_PROF AS NM\n",
                "FROM TAB18 d, SECTOR z \tWHERE d.id = z.ID\n",
                "UNION ALL \t(\n",
                "\n",
                "SELECT c.id , c.year, z.NAME, z.sec, c.TASSET, c.TLIABILITY, c.CURR_ASS, c.CURR_LIAB, c.NET_SALES, c.NET_PROF\n",
                "\t,c.CURR_ASS/c.CURR_LIAB AS CR, c.TLIABILITY/c.TASSET AS DR, c.NET_PROF/c.TASSET AS ROA,  c.NET_SALES/c.NET_PROF AS NM\n",
                "FROM TAB17 c, SECTOR z\tWHERE c.id = z.ID)\n",
                "UNION ALL \t(\n",
                "\n",
                "SELECT e.id , e.year, z.NAME, z.sec, e.TASSET, e.TLIABILITY, e.CURR_ASS, e.CURR_LIAB, e.NET_SALES, e.NET_PROF\n",
                "\t,e.CURR_ASS/e.CURR_LIAB AS CR, e.TLIABILITY/e.TASSET AS DR, e.NET_PROF/e.TASSET AS ROA,  e.NET_SALES/e.NET_PROF AS NM\n",
                "FROM TAB19 e, SECTOR z\tWHERE e.id = z.ID\n",
                "UNION ALL \t(\n",
                "\n",
                "SELECT f.id , f.year, z.NAME, z.sec, f.TASSET, f.TLIABILITY, f.CURR_ASS, f.CURR_LIAB, f.NET_SALES, f.NET_PROF\n",
                "\t,f.CURR_ASS/f.CURR_LIAB AS CR, f.TLIABILITY/f.TASSET AS DR, f.NET_PROF/f.TASSET AS ROA,  f.NET_SALES/f.NET_PROF AS NM\n",
                "FROM TAB20 f, SECTOR z\tWHERE f.id = z.ID\t))))\n",
                "\n",
                "ORDER BY z.NAME, year"
            ],
            "metadata": {
                "azdata_cell_guid": "c2648d1f-0d87-489f-ab15-6d785fc3fb33",
                "tags": [
                    "hide_input"
                ]
            },
            "outputs": [],
            "execution_count": null
        },
        {
            "cell_type": "markdown",
            "source": [
                "# 3\\. Data Modeling\r\n",
                "\r\n",
                "First, the _ID_ column in each table was established as the _primary key_ and connections were created between them in the relationship diagram, as you can see:\r\n",
                "\r\n",
                "![alt](https://imgur.com/Q91NPpo.png)\r\n",
                "\r\n",
                "# 4\\. Visualization\r\n",
                "A dynamic dashboard was made in Tableau.\r\n",
                "\r\n",
                "Click the picture to open the dashboard and try it out!\r\n",
                "\r\n",
                "[![alt text](https://imgur.com/PQqGack.png)](https://public.tableau.com/app/profile/lucero.emperatriz.sovero/viz/HistoricalPerformaceofLimaStockExchange/Dashboard1)\r\n",
                "\r\n",
                ""
            ],
            "metadata": {
                "azdata_cell_guid": "14cc23f9-d3bd-4f96-82db-ab4a8f42afed"
            },
            "attachments": {}
        },
        {
            "cell_type": "markdown",
            "source": [
                "# 5\\. Results & Conclusion\n",
                "\n",
                "After analyzing the visualization, it can be concluded that:\n",
                "\n",
                "1. The trend line of the graph RELATIONSHIP BETWEEN DEBTS suggests that most companies prefer to finance their activities with external financing instead of their own funds, except for the Mining Sector it does not follow this pattern, so it can be affirmed that this decision regarding financing depends on the specific productive activities.\n",
                "1. The capacity of the market to satisfy its short-term debts is demonstrated, since the CURRENT RATIO BY SECTOR boxplot reflects the values ​​of the medians, all greater than one, highlighting the Mining Sector at this ratio. Only 17 of the 71 companies obtained a value below the average. \n",
                "1. The AVERAGE ROA BY YEAR display points to sectors. In the Industrial and Mining Sector there is inefficiency in the use of assets, since the profits generated by them decrease over time \n",
                "1. Finally, when analyzing *NET PROFIT VS. NET SALES, it's observed that the higher net margin does not correspond to the companies with higher sales.\n",
                "\n",
                "Those interested are invited to carry out a more exhaustive analysis using this tool to make their decisions according to their personal objectives.\n",
                "  \n",
                "\n",
                "----------\n",
                "\n",
                "##  <u>CONTACT ME</u>\n",
                "\n",
                "Lucero Emperatriz Sovero.\n",
                "\n",
                "[**My Website**](https://lu-emperatriz.github.io/Lucero-Portfolio-2/)\n",
                "\n",
                "[**View more Projects**](https://github.com/Lu-Emperatriz?tab=repositories)."
            ],
            "metadata": {
                "azdata_cell_guid": "34fbbcef-3d7a-4728-89b4-1b7ce39d06ee"
            },
            "attachments": {}
        }
    ]
}