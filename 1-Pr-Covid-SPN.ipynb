{
    "cells": [
        {
            "attachments": {},
            "cell_type": "markdown",
            "metadata": {
                "azdata_cell_guid": "3f9c5101-7a40-422f-9c07-712a310173f4"
            },
            "source": [
                "# **Impacto del Covid-19 en América Latina**\n",
                "\n",
                "\n",
                "[**Ver el dashboard en Power BI en línea**](https://bit.ly/3vsbLFD)\n",
                "\n",
                "[![alt text](https://imgur.com/SqfOdqO.png)](https://bit.ly/3vsbLFD)\n",
                "\n",
                "* * *\n",
                "\n",
                "\n",
                "# Problema de Negocio\n",
                "\n",
                "Según Comité sobre el COVID-19 del CONCYTEC, hasta el 23 de noviembre del 2021 Perú presentó 5977 muertes por millón de habitantes, la cifra más alta en todo el mundo.\n",
                "\n",
                "### ❓ **<u>Preguntas de análisis</u>**: \n",
                "* ¿Cuál fue la evolución de la tasa de mortalidad en Perú en comparación con otros países de América Latina?\n",
                "* ¿Factores como la incidencia de diabetes y la edad promedio influyeron en la tasa de mortalidad de los países?\n",
                "* ¿Qué impacto tuvo la vacunación en Perú sobre la tasa de mortalidad en comparación con otros países?\n",
                "\n",
                "\n",
                "### 🎯 **<u>Objetivo</u>**<br>\n",
                "Analizar la evolución del COVID-19 en Perú y el comportamiento de a tasa de mortalidad frente a otros países latinoamericanos.\n",
                "<br>\n",
                "\n",
                "| Alcance de estudio | Tipo de Análisis | Tools used |\n",
                "| --- | :-: | --: |\n",
                "| Longitudinal: Desde inicio de la pandemia al 27 de Diciembre del 2021 | Exploratorio | SQL- Power BI - Markdown |\n",
                "\n",
                "# Extracción y Limpieza de Datos\n",
                "\n",
                "Los datos usados para el análisis fueron extraídos de  [_Our World in Data_](https://ourworldindata.org/covid-deaths), al 27 de diciembre de 2021 en dos tablas denominadas:\n",
                "\n",
                "- Tabla \"Latin\\_deaths\": Casos, muertes, prevalencia de diabetes, edad promedio, casos y muertes por millón, casos nuevos por día.\n",
                "- Tabla \"Vacu\\_latin\": Datos de vacunación, población vacunada completa.\n",
                "\n",
                "Primero, vamos a limpiar el conjunto de dato eliminando las columnas que no son de nuestro interés. <br>\n",
                "¡Hecha un vistazo al código!"
            ]
        },
        {
            "cell_type": "code",
            "execution_count": null,
            "metadata": {
                "azdata_cell_guid": "90df0417-0499-4410-83e5-34269402340e",
                "tags": [
                    "hide_input"
                ]
            },
            "outputs": [],
            "source": [
                "ALTER TABLE Latin_deaths DROP COLUMN continent, total_cases_per_million, \n",
                "total_deaths_per_million, gdp_per_capita, cardiovasc_death_rate, \n",
                "hospital_beds_per_thousand, human_development_index"
            ]
        },
        {
            "attachments": {},
            "cell_type": "markdown",
            "metadata": {
                "azdata_cell_guid": "ab1fd000-9377-4f93-bd5c-71a6315a1ff6"
            },
            "source": [
                "# Creación de vistas\n",
                "\n",
                "Debido a los más de 88,000 registros se crearon vistas con la función **CREATE VIEW**, las cuales mostrarán el conjunto de datos específico que nos permita analizar cada una de las preguntas a detalle. \n",
                "\n",
                "📍<u>Evolución de la tasa de mortalidad en Perú</u><br>\n",
                "La tasa de mortalidad fue calculada respecto al total de casos, sin embargo, también fue necesario calcular la tasa de contagio por población para contrastar la proporción de muertos respecto al número total de habitantes. Los cálculos se muestran para cada fecha desde la fecha del Caso 0 en cada país.\n",
                "\n",
                "¡Veamos el script!\n"
            ]
        },
        {
            "cell_type": "code",
            "execution_count": null,
            "metadata": {
                "azdata_cell_guid": "f796a67d-8793-487e-ae5d-4d26eaa1d91c",
                "tags": []
            },
            "outputs": [],
            "source": [
                "CREATE VIEW DIATasaContagPorPob AS\n",
                "  SELECT location, date, population, total_cases, total_deaths\n",
                "    ,(total_deaths/total_cases)* 100 AS per_tasamortalidad\n",
                "    ,(total_cases/population)* 100 AS perc_contagiados\n",
                "  FROM PORTFOLIOProject..LatinDeaths\n",
                "  ORDER by total_cases desc"
            ]
        },
        {
            "attachments": {},
            "cell_type": "markdown",
            "metadata": {
                "azdata_cell_guid": "ab230f3b-9ce5-46bd-ba7b-512a34be8aa9"
            },
            "source": [
                "Luego, se filtró el total de muertos por país *location* y por número de habitantes *population* mediante función agregada para ver un resumen de la información de la vista anterior, ya que en ésta solo se muestran la cifras máximas hasta el corte del 27 de diciembre."
            ]
        },
        {
            "cell_type": "code",
            "execution_count": null,
            "metadata": {
                "azdata_cell_guid": "2cae1f30-de8c-4873-9884-351dc15699e4",
                "tags": []
            },
            "outputs": [],
            "source": [
                "CREATE VIEW RESUMEN AS\n",
                "  SELECT location, population,MAX(cast(total_deaths as int)) AS totmuertos\n",
                "  FROM PORTFOLIOProject..LatinDeaths\n",
                "  GROUP BY location, population"
            ]
        },
        {
            "attachments": {},
            "cell_type": "markdown",
            "metadata": {
                "azdata_cell_guid": "fc5bf099-ced4-46bb-8d38-a9e3a80b4af2"
            },
            "source": [
                "📍<u>Indicadores de incidencia de diabetes y la edad promedio</u>  \n",
                "Para esta vista solo se utilizaron funciones agregadas, pues los valores incidencia de diabetes y edad promedio son el mismo para todos los registros hasta la fecha de corte.  \n",
                "Se calculó el promedio de ambas variables y se agruparon con **GROUP BY** por locación y número de habitantes como la anterior vista."
            ]
        },
        {
            "cell_type": "code",
            "execution_count": null,
            "metadata": {
                "azdata_cell_guid": "1650e56d-5c3b-4589-9bd3-aeec17d631e4",
                "tags": [
                    "hide_input"
                ]
            },
            "outputs": [],
            "source": [
                "CREATE VIEW RESTasaMortPorPob AS\n",
                "  SELECT location, population, AVG(ROUND(median_age,0)) AS EdadProm\n",
                "    , ROUND(AVG(diabetes_prevalence),2) AS Diabetes\n",
                "    , MAX(cast(total_deaths as int)) AS totalDeath \n",
                "    ,MAX(total_deaths/population)*100 AS perc_tasamortali\n",
                "  FROM PORTFOLIOProject..LatinDeaths\n",
                "  GROUP BY location, population\n",
                "  ORDER BY perc_tasamortali desc"
            ]
        },
        {
            "attachments": {},
            "cell_type": "markdown",
            "metadata": {
                "azdata_cell_guid": "bd41f14b-6c2f-475d-8b01-d97d0fed49bb"
            },
            "source": [
                "📍<u>Vacunación y mortalidad</u><br>\n",
                "Es necesario unir con **JOIN** la información de las tablas *LatinDeaths* y *vacu_latin* para contrastar la tasa de mortalidad con el número de nuevos vacunados por día *new_vaccinations*. En este caso se utilizó la función **OVER(PARTITION BY)** en lugar de **GROUP BY** pues ésta última se limita a mostrar los atributos por los que se agrupa y excluye variables relevantes para nuestro análisis como *date y population*. <br> ¡Veamos el script!"
            ]
        },
        {
            "cell_type": "code",
            "execution_count": null,
            "metadata": {
                "azdata_cell_guid": "02d25fbd-2d6b-4b2a-afcc-930f52dfd33b",
                "tags": [
                    "hide_input"
                ]
            },
            "outputs": [],
            "source": [
                "CREATE VIEW PobVaccinated AS \n",
                "\t  SELECT dea.location, dea.date, dea.population\n",
                "\t\t  ,vac.new_vaccinations\n",
                "\t\t  ,CAST(people_vaccinated_per_hundred as float) AS perc_pob_vac\n",
                "\t\t  ,SUM(CAST(vac.new_vaccinations as float)) \n",
                "\t\t  OVER(PARTITION BY dea.location ORDER BY dea.location, dea.date) as total_vac\n",
                "\t  FROM PORTFOLIOProject..LatinDeaths dea\n",
                "\t  JOIN PORTFOLIOProject..vacu_latin vac\n",
                "\t  ON dea.location = vac.location AND dea.date = vac.date"
            ]
        },
        {
            "attachments": {},
            "cell_type": "markdown",
            "metadata": {
                "azdata_cell_guid": "3fbb2d59-577f-4601-ad4d-c3a13a69ab32"
            },
            "source": [
                "# Resultados de Análisis\n",
                "\n",
                "Para una mejor comprensión de los datos desarrollé un Dashboard dinámico en Power BI.  \n",
                "Pruébalo [**AQUÍ**](https://bit.ly/3vsbLFD)\n",
                "\n",
                "✔️ **¿Cuál fue la evolución de la tasa de mortalidad en Perú en comparación con otros países de América Latina?** <BR>\n",
                "Como se observa en el gráfico, el Perú es el país Latinoamericano con la mayor tasa de mortalidad en promedio (8.9%), los que le siguen son Ecuador (6.2%) y Paraguay (3.6%), es decir aproximadamente 9 de cada 100 casos peruanos de COVID-19 han fallecido en el Perú. \n",
                "\n",
                "<center><img src=\"https://imgur.com/RxjADml.png\" height=\"300\" /></center>\n",
                "\n",
                "Respecto a la población total de 33.36 millones, 6 de cada 1000 peruanos en promedio (0.595%) han fallecido por COVID-19 hasta la fecha.\n",
                "\n",
                "✔️ **¿Factores como la incidencia de diabetes y la edad promedio influyeron en la tasa de mortalidad de los países?** <BR>\n",
                "No se observa una influencia de la incidencia de diabetes y la edad promedio de la población sobre la tasa de mortalidad en los países Latinoamericanos. El gráfico de dispersión no muestra tendencia alguna entre Prevalencia de diabetes y Tasa de Mortalidad, ni entre la Edad Promedio y la Tasa de Mortalidad, por lo que se descarta la probable influencia de estas variables.\n",
                "<center><img src=\"https://imgur.com/6cia7uJ.png\" height=\"280\" /></center>\n",
                "\n",
                "Por ejemplo, si consideramos a la edad como un factor determinante de la mortalidad, se puede invalidar esta premisa al evaluar el caso de Uruguay: Con una edad promedio superior al resto de países presenta una de las menores tasas de mortalidad, pues aproximadamente 2 de cada 1000 uruguayos fallecen por COVID-19.\n",
                "\n",
                "<center><img src=\"https://imgur.com/dczdULI.png\" height=\"280\" /></center>\n",
                "\n",
                "✔️ **¿Qué impacto tuvo la vacunación en Perú sobre la tasa de mortalidad en comparación con otros países?** <BR>\n",
                "La tasa de mortalidad antes del 9 de febrero (fecha de inicio de vacunación) fue de 9.14%, hasta fines del 2021 esta cifra disminuyó a 8.89%. Es decir, que 3 de cada 1000 contagiados (-0.25%) dejaron de morir luego de la vacunación. \n",
                "\n",
                "<u>ANTES DE VACUNACIÓN</u><BR>\n",
                "<img src=\"https://imgur.com/9zAGzjn.png\" width=\"350\" />\n",
                "\n",
                "<u>DESPUÉS DE VACUNACIÓN</u><BR>\n",
                "<img src=\"https://imgur.com/1FoQ0yy.png\" width=\"350\" />\n",
                "\n",
                "\n",
                "\n",
                "\n",
                "\n",
                "\n",
                "\n",
                "\n",
                "\n"
            ]
        },
        {
            "attachments": {},
            "cell_type": "markdown",
            "metadata": {
                "azdata_cell_guid": "068413b0-6d15-4b0e-860e-96cc621010e1"
            },
            "source": [
                "* * *\n",
                "\n",
                "### 📌 **CONOCE MÁS DE MIS PROYECTOS [AQUÍ](https://lu-emperatriz.github.io/)**\n",
                "\n",
                "Lucero Emperatriz.\n",
                "\n",
                " <a href=\"https://www.linkedin.com/in/lucero-sovero/\"><img src=\"https://imgur.com/p58yPZr.png\" height=\"auto\" width=\"50\" style=\"border-radius:50%\"></a>"
            ]
        }
    ],
    "metadata": {
        "kernelspec": {
            "display_name": "SQL",
            "language": "sql",
            "name": "SQL"
        },
        "language_info": {
            "name": "sql",
            "version": ""
        }
    },
    "nbformat": 4,
    "nbformat_minor": 2
}
