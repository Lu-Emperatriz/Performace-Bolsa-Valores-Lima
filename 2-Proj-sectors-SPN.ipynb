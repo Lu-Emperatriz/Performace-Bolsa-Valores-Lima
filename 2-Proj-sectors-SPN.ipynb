{
    "metadata": {
        "kernelspec": {
            "name": "SQL",
            "display_name": "SQL",
            "language": "sql"
        },
        "language_info": {
            "name": "sql",
            "version": ""
        }
    },
    "nbformat_minor": 2,
    "nbformat": 4,
    "cells": [
        {
            "cell_type": "markdown",
            "source": [
                "# **Desempeño Financiero en la Bolsa de Valores de Lima (2015-2020)**\n",
                "\n",
                "[**Ver el dashboard en línea en Tableau**](https://tabsoft.co/3sUUAek)\n",
                "\n",
                "\n",
                "<center><a href=\"https://tabsoft.co/38C1f5B\"><img src=\"https://imgur.com/8duoiFH.png\" width=\"500\" height=\"500\" /></a></center>\n",
                "\n",
                "\n",
                "* * *\n",
               
                "\n",
                "\n",
                "# Definición del Problema\n",
                "El mercado accionario del Perú mejor conocido como la Bolsa de Valores de Lima (BVL) es considerado como uno de los mercados de acciones más pequeño de Latinoamérica a pesar de su crecimiento favorable en el último quinquenio, al duplicar su tamaño de deuda pública de 8.1% en 2015 a 15.7% del PBI en 2019. \n",
                "\n",
                "### ❓ **<u>Preguntas de análisis</u>**: \n",
                "* ¿Las empresa tienen capacidad para recaudar fondos y cubrir sus obligaciones?\n",
                "* ¿Qué sector presenta mayor rentabilidad?\n",
                "* ¿La empresas con mayores ingresos generan mejores márgenes de utilidad?\n",
                "\n",
                "\n",
                "\n",
                "### 🎯 **<u>Objetivo</u>**<br>\n",
                "Ofrecer una visión global del estado financiero histórico de las empresas que cotizan en la Bolsa de Valores de Lima, este análisis te servirá de soporte para la toma de decisiones de inversión.\n",
                "\n",
                "<br>\n",
                "\n",
                "\n",
                "<center><img src=\"https://imgur.com/SnAkSXy.png\" width=\"500\" height=auto /></a></center>\n",
                "\n",
                "\n",
                "\n",
                "# Preparación de Datos\n",
                "\n",
                "## Fuente de datos\n",
                "Para realizar el análisis se recopiló la informacion financiera de las empresas del 2015 al 2020, disponible en la [_web de la Bolsa de Valores de Lima_](https://www.bvl.com.pe/emisores/listado-emisores). Los estados financieros usados fueron el Estado de Resultados y Estado de Situación Financiera. Además, para evitar problemas con el cálculo de indicadores, se descartaron las empresas que no presentaron información durante este intervalo de tiempo de tal forma que sean homogéneos y comparables. Fueron descartadas las empresas Atria Energia, Medrock, Minera IRL Limited.\n",
                "\n",
                "Los ratios financieros calculados para responder a las preguntas fueron:\n",
                "1. **Ratio de Liquidez | Current ratio(CR):** Indica capacidad de empresas para recaudar fondos y cubrir sus obligaciones  (Activo corriente / Pasivo corriente)\n",
                "2. **Ratio de Deuda | Debt ratio (DR):** Mide qué tan bien el flujo de efectivo de una empresa puede cubrir su deuda a largo plazo (Pasivo total /Activo total)\n",
                "3. **Rentabilidad sobre Activos | Return to Assets (ROA):** Mide qué tan rentable es una empresa en relación con sus activos totales (Utilidad Neta / Activo total)\n",
                "4. **Margen Neto | Net margin (MN):** Mide cuánto ingreso neto o ganancia se genera con ingresos de las ventras (Utilidad neta / Ventas netas)\n",
                "\n",
                "## Extracción de Datos\n",
                "Para la extracción se usó scraping en Python con el entorno Selenium y la librería Pandas (**ver código en Python** [**AQUÍ.**](https://github.com/Lu-Emperatriz/Lima-Stock-Performance/blob/main/pythonScript.ipynb)).\n",
                "\n",
                "El conjunto de datos contiene los siguientes atributos:\n",
                "\n",
                "\n",
                "| Ratio | Descripción |\n",
                "| --- | :-: |\n",
                "| TASSET | Activo total |\n",
                "| TLIABILITY | Pasivo total |\n",
                "| CURR\\_ASS | Activo corriente |\n",
                "| CURR\\_LIAB | Pasivo corriente |\n",
                "| NET\\_SALES | Ventas netas es el total de ganancias |\n",
                "| NET\\_PROF | Ganancias netas o utilidad neta, despues de restar todos los intereses, operaciones e impuestos. |\n",
                "\n",
                "\n",
                "\n",
                "# Limpieza de Datos\n",
                "Se exportaron **seis tablas en total**: \n",
                "* _'SECTOR'_ con registros del sector al que pertenece cada empresa y la URL de la información.\n",
                "* _'TAB15'_ que contiene los datos del año 2015, _'TAB16'_ con los datos del periodo 2016, y de igual manera para las tablas restantes _'TAB17', 'TAB18', 'TAB19'_ y _'TAB20'._ \n",
                "\n",
                "Luego se agregó un _ID identity_ para identificar a las empresas y el año correspondiente."
            ],
            "metadata": {
                "azdata_cell_guid": "1ff2db04-e750-4f49-8a5c-278e5f990492"
            },
            "attachments": {}
        },
        {
            "cell_type": "code",
            "source": [
                "--1. Adding identify ID to each table (the same for the others)\n",
                "ALTER TABLE TAB15\n",
                "ADD ID int identity(1,1)\n",
                "GO\n",
                "--2. Adding year number to each table (the same for the others)\n",
                "ALTER TABLE TAB15 ADD year integer\n",
                "UPDATE TAB15 SET year = 2015"
            ],
            "metadata": {
                "azdata_cell_guid": "dae8f9c7-ed8c-41d7-9f93-0f0ea4fc415a",
                "tags": [
                    "hide_input"
                ]
            },
            "outputs": [],
            "execution_count": null
        },
        {
            "cell_type": "markdown",
            "source": [
                "Finalmente, se unieron las tablas en una nueva vista, que incluye el sector al que pertenece cada empresa y el cálculo de los ratios correspondientes.\n",
                "\n",
                "¡Veamos el código!"
            ],
            "metadata": {
                "azdata_cell_guid": "97dcb227-a02b-42bc-985b-ebe0fe47ec82"
            }
        },
        {
            "cell_type": "code",
            "source": [
                "--1. UNION todas las tablas (alias 'a' para TAB15, 'b' para TAB16, ... y 'f' para TAB20)\n",
                "--2. CÁLCULO DE FÓRMULAS (Donde 'CR' es el alias para Ratio de liquidez, 'DB' es el índice de deuda y 'NM' es el margen neto)\n",
                "\n",
                "SELECT a.id, a.year, z.NAME, z.sec, a.TASSET, a.TLIABILITY, a.CURR_ASS, a.CURR_LIAB, a.NET_SALES, a.NET_PROF\n",
                "\t,a.CURR_ASS/a.CURR_LIAB AS CR, a.TLIABILITY/a.TASSET AS DR, a.NET_PROF/a.TASSET AS ROA,  a.NET_SALES/a.NET_PROF AS NM\n",
                "FROM TAB15 a, SECTOR z\tWHERE a.id = z.ID  \n",
                "UNION ALL \t(\n",
                "\n",
                "SELECT b.id , b.year, z.NAME, z.sec, b.TASSET, b.TLIABILITY , b.CURR_ASS, b.CURR_LIAB, b.NET_SALES, b.NET_PROF\n",
                "\t,b.CURR_ASS/b.CURR_LIAB AS CR, b.TLIABILITY/b.TASSET AS DR, b.NET_PROF/b.TASSET AS ROA,  b.NET_SALES/b.NET_PROF AS NM\n",
                "FROM TAB16 b, SECTOR z \tWHERE b.id = z.ID\n",
                "UNION ALL \t(\n",
                "\n",
                "SELECT d.id , d.year, z.NAME, z.sec, d.TASSET, d.TLIABILITY, d.CURR_ASS, d.CURR_LIAB, d.NET_SALES, d.NET_PROF\n",
                "\t,d.CURR_ASS/d.CURR_LIAB AS CR, d.TLIABILITY/d.TASSET AS DR, d.NET_PROF/d.TASSET AS ROA,  d.NET_SALES/d.NET_PROF AS NM\n",
                "FROM TAB18 d, SECTOR z \tWHERE d.id = z.ID\n",
                "UNION ALL \t(\n",
                "\n",
                "SELECT c.id , c.year, z.NAME, z.sec, c.TASSET, c.TLIABILITY, c.CURR_ASS, c.CURR_LIAB, c.NET_SALES, c.NET_PROF\n",
                "\t,c.CURR_ASS/c.CURR_LIAB AS CR, c.TLIABILITY/c.TASSET AS DR, c.NET_PROF/c.TASSET AS ROA,  c.NET_SALES/c.NET_PROF AS NM\n",
                "FROM TAB17 c, SECTOR z\tWHERE c.id = z.ID)\n",
                "UNION ALL \t(\n",
                "\n",
                "SELECT e.id , e.year, z.NAME, z.sec, e.TASSET, e.TLIABILITY, e.CURR_ASS, e.CURR_LIAB, e.NET_SALES, e.NET_PROF\n",
                "\t,e.CURR_ASS/e.CURR_LIAB AS CR, e.TLIABILITY/e.TASSET AS DR, e.NET_PROF/e.TASSET AS ROA,  e.NET_SALES/e.NET_PROF AS NM\n",
                "FROM TAB19 e, SECTOR z\tWHERE e.id = z.ID\n",
                "UNION ALL \t(\n",
                "\n",
                "SELECT f.id , f.year, z.NAME, z.sec, f.TASSET, f.TLIABILITY, f.CURR_ASS, f.CURR_LIAB, f.NET_SALES, f.NET_PROF\n",
                "\t,f.CURR_ASS/f.CURR_LIAB AS CR, f.TLIABILITY/f.TASSET AS DR, f.NET_PROF/f.TASSET AS ROA,  f.NET_SALES/f.NET_PROF AS NM\n",
                "FROM TAB20 f, SECTOR z\tWHERE f.id = z.ID\t))))\n",
                "\n",
                "ORDER BY z.NAME, year"
            ],
            "metadata": {
                "azdata_cell_guid": "c2648d1f-0d87-489f-ab15-6d785fc3fb33",
                "tags": [
                    "hide_input"
                ]
            },
            "outputs": [],
            "execution_count": null
        },
        {
            "cell_type": "markdown",
            "source": [
                "# Modelamiento de Datos\n",
                "\n",
                "💡 El modelado de datos conecta las diferentes bases de datos extraídas con el fin de estructurar y organizar los datos para su mejor comprensión.\n",
                "\n",
                "Primero se estableció como _primary key_ a la columna _ID_ en cada tabla, esta 'llave' es el atributo que concide en las dos tablas a relacionarse. La estructura final se muestra a continuación:\n",
                "\n",
                "<center><img src=\"https://imgur.com/Q91NPpo.png\" width=\"300\" height=\"400\" /></center>\n",
                "\n",
                "# Visualización y Análisis de Datos\n",
                "\n",
                "Para una mejor comprensión de los datos se construyó un dashboard dinámico en Tableau.  \n",
                "Pruébalo [**AQUÍ**](https://tabsoft.co/38C1f5B)\n",
                "\n",
                "✔️ **¿Las empresas tienen capacidad para recaudar fondos y cubrir sus obligaciones?**\n",
                "\n",
                "En el boxplot RATIO DE LIQUIDEZ POR SECTOR se refleja la capacidad de las empresas de los sector es Industrial, Minería y Agrario para satisfacer sus deudas a corto plazo, pues aproximadamente el 75% (cuartil inferior) de las compañías tienen una liquidez mayor a 1. El sector de Servicios por su parte, tiene una liquidez media de 1.3, pero la mitad de estas tienen una liquidez negativa.\n",
                "\n",
                "<center><img src=\"https://imgur.com/DZsV16I.png\" height=\"150\" /></center>\n",
                "\n",
                "Por otra parte, la línea de tendencia positiva mostrada en el gráfico FINANCIAMIENTO POR DEUDAS sugiere que las empresas prefieren financiar sus actividades con financiación externa en lugar de fondos propios, con excepción del sector Minería. Se puede deducir que esta decición con respecto a la financiación depende de las actividades productivas específicas de cada empresa.\n",
                "\n",
                "<center><img src=\"https://imgur.com/7UWHYai.png\" height=\"140\" /></center>\n",
                "\n",
                "\n",
                "✔️ **¿Qué sector presenta mayor rentabilidad?**\n",
                "\n",
                "El ROA indica qué tal eficiente es empresa para generar utilidades con su disponibilidad de activos, para este análisis se consideran óptimos a los valores de ROA que superen el 5%. Puesto que el valor del ROA varía de acuerdo a la indutria, se analizaron tomando en cuenta el periodo de tiempo.\n",
                "\n",
                "<center><img src=\"https://imgur.com/AFArrAm.png\" height=\"140\" /></center>\n",
                "\n",
                "\n",
                "En el sector Industrial y Minería Sector se nota una ineficiencia en uso de activos, pues sus utilidades tienen tendencia a disminuir con el paso del tiempo como muestra la visualización EVOLUCIÓN DEL ROA.\n",
                "\n",
                "✔️ **¿La empresas con mayores ingresos generan mejores márgenes de utilidad?**\n",
                "\n",
                "No. El gráfico MARGEN DE UTILIDAD NETA, indica que el mayor margen neto no corresponde a las empresas que generan más ventas, por el contrario, empresas pequeñas como \"Cementos Pacasmayo\" tienen mayor margen de utilidad que grandes compañías como \"Petroperú\".\n",
                "\n",
                "<center><img src=\"https://imgur.com/L8u7soe.png\" height=\"350\" /></center>"
            ],
            "metadata": {
                "azdata_cell_guid": "14cc23f9-d3bd-4f96-82db-ab4a8f42afed"
            }
        },
        {
            "cell_type": "markdown",
            "source": [
                "# Conclusiones y Recomendaciones\n",
                "\n",
                "Los resultados encontrados en este estudio sirven como referencia al inversor acerca de la toma de decisiones concerniente a su cartera de valores. De este estudio se puede concluir que:\n",
                "\n",
                "- El sector Minería se destaca sobre los demás debido a su valor de liquidez y capacidad de cubrir sus obligaciones, no obstante, del 2016 al 2020 se observó una caída en su rentabilidad.\n",
                "- Las empresas más grandes no son necesariamente las más eficientes en sus recursos, posiblemente por el requerimiento de mayores costos operacionales.\n",
                "- El valor de los indicadores dependerán del ratio y del sector, por lo que se recomienda analizar los libros de cuentas de las empresas a detalle.\n",
                "\n",
                "Se invita a los interesados a realizar un análisis más exhaustivo haciendo uso adecuado de esta herramienta para tomar sus decisiones de acuerdo a sus objetivos personales.\n",
                "\n",
                "* * *\n",
                "\n",
                "### 📌 **Conoce más de mis proyectos [AQUÍ](https://github.com/Lu-Emperatriz)**\n",
                "\n",
                "Lucero Emperatriz.\n",
                "\n",
                " <a href=\"https://www.linkedin.com/in/lucero-sovero/\"><img src=\"https://imgur.com/p58yPZr.png\" height=\"auto\" width=\"50\" style=\"border-radius:50%\"></a>\n"
            ],
            "metadata": {
                "azdata_cell_guid": "34fbbcef-3d7a-4728-89b4-1b7ce39d06ee"
            }
        }
    ]
}
